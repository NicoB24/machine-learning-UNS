{
  "nbformat": 4,
  "nbformat_minor": 0,
  "metadata": {
    "colab": {
      "name": "aprendizaje_de_maquina_TP2.ipynb",
      "provenance": [],
      "collapsed_sections": [
        "Nc9lHMCalMty",
        "JBBlyLSJla_F",
        "AJHLkGlqlfQU",
        "VPuz-HuVltwI",
        "VML--6Whl6vI",
        "sKW1sL9onOxr",
        "1Uaw_N89m7AN",
        "96W2Yyj84y5w",
        "yKvYv65PX-c_"
      ]
    },
    "kernelspec": {
      "name": "python3",
      "display_name": "Python 3"
    },
    "language_info": {
      "name": "python"
    }
  },
  "cells": [
    {
      "cell_type": "markdown",
      "metadata": {
        "id": "BMsi-dLelG6K"
      },
      "source": [
        "# Aprendizaje de maquina - TP 2"
      ]
    },
    {
      "cell_type": "markdown",
      "metadata": {
        "id": "Nc9lHMCalMty"
      },
      "source": [
        "## Importando bibliotecas"
      ]
    },
    {
      "cell_type": "code",
      "metadata": {
        "id": "BsZOZbtGlRZi"
      },
      "source": [
        "import pandas as pd\n",
        "import numpy as np\n",
        "import matplotlib.pyplot as plt\n",
        "from sklearn.model_selection import train_test_split, GridSearchCV\n",
        "from sklearn import neighbors, metrics, preprocessing"
      ],
      "execution_count": 84,
      "outputs": []
    },
    {
      "cell_type": "markdown",
      "metadata": {
        "id": "JBBlyLSJla_F"
      },
      "source": [
        "## Ejercicio 1"
      ]
    },
    {
      "cell_type": "markdown",
      "metadata": {
        "id": "AJHLkGlqlfQU"
      },
      "source": [
        "### Definiendo funciones a utilizar"
      ]
    },
    {
      "cell_type": "code",
      "metadata": {
        "id": "ZKHiVuxclcmj"
      },
      "source": [
        "def label_vector(value, shape):\n",
        "  return np.full(\n",
        "                 shape = shape,\n",
        "                 fill_value = value,\n",
        "                 dtype = np.object\n",
        "                 )"
      ],
      "execution_count": null,
      "outputs": []
    },
    {
      "cell_type": "code",
      "metadata": {
        "id": "Lrw8tmfclm28"
      },
      "source": [
        "def create_dataset(distribution_a, distribution_b, number_of_elements):\n",
        "  data_a = {'x': distribution_a[:, 0], 'y': distribution_a[:, 1], 'label': label_vector('a', number_of_elements)}\n",
        "  data_b = {'x': distribution_b[:, 0], 'y': distribution_b[:, 1], 'label': label_vector('b', number_of_elements)}\n",
        "  dataset =  pd.DataFrame(data = data_a).append(pd.DataFrame(data = data_b))\n",
        "  return dataset"
      ],
      "execution_count": null,
      "outputs": []
    },
    {
      "cell_type": "code",
      "metadata": {
        "id": "cZMKd6EM4ray"
      },
      "source": [
        "\n",
        "\n"
      ],
      "execution_count": null,
      "outputs": []
    },
    {
      "cell_type": "markdown",
      "metadata": {
        "id": "VPuz-HuVltwI"
      },
      "source": [
        "### Eligiendo la cantidad de elementos y creando las dos distribuciones"
      ]
    },
    {
      "cell_type": "code",
      "metadata": {
        "id": "f_6_ID96lxl7"
      },
      "source": [
        "number_of_elements = 100"
      ],
      "execution_count": null,
      "outputs": []
    },
    {
      "cell_type": "markdown",
      "metadata": {
        "id": "EqVnMbBfpde1"
      },
      "source": [
        "Definiendo las medias y matrices de covarianza de cada distribucion"
      ]
    },
    {
      "cell_type": "code",
      "metadata": {
        "id": "5yPrYIl9pc9F"
      },
      "source": [
        "mean_a = [3, 6]\n",
        "cov_a = [[2, 0], [0, 5]]\n",
        "\n",
        "mean_b = [5, 6]\n",
        "cov_b = [[2, 0], [0, 4]]"
      ],
      "execution_count": null,
      "outputs": []
    },
    {
      "cell_type": "markdown",
      "metadata": {
        "id": "w0pYhoAGphtR"
      },
      "source": [
        "Creando al distribucion"
      ]
    },
    {
      "cell_type": "code",
      "metadata": {
        "id": "ZHwtYgnFlzbs"
      },
      "source": [
        "distribution_a = np.random.multivariate_normal(mean_a, cov_a, number_of_elements)\n",
        "distribution_b = np.random.multivariate_normal(mean_b, cov_b, number_of_elements)"
      ],
      "execution_count": null,
      "outputs": []
    },
    {
      "cell_type": "code",
      "metadata": {
        "id": "AdAuPGrH4ptr"
      },
      "source": [
        "\n",
        "\n"
      ],
      "execution_count": null,
      "outputs": []
    },
    {
      "cell_type": "markdown",
      "metadata": {
        "id": "VML--6Whl6vI"
      },
      "source": [
        "### Creando el dataset"
      ]
    },
    {
      "cell_type": "code",
      "metadata": {
        "id": "Oto4fhqWl4Cz"
      },
      "source": [
        "dataset = create_dataset(distribution_a, distribution_b, number_of_elements)"
      ],
      "execution_count": null,
      "outputs": []
    },
    {
      "cell_type": "code",
      "metadata": {
        "colab": {
          "base_uri": "https://localhost:8080/",
          "height": 419
        },
        "id": "H-9Y3rtJnshd",
        "outputId": "fada0bb9-f58a-4472-8b56-717d2a5181d3"
      },
      "source": [
        "dataset"
      ],
      "execution_count": null,
      "outputs": [
        {
          "output_type": "execute_result",
          "data": {
            "text/html": [
              "<div>\n",
              "<style scoped>\n",
              "    .dataframe tbody tr th:only-of-type {\n",
              "        vertical-align: middle;\n",
              "    }\n",
              "\n",
              "    .dataframe tbody tr th {\n",
              "        vertical-align: top;\n",
              "    }\n",
              "\n",
              "    .dataframe thead th {\n",
              "        text-align: right;\n",
              "    }\n",
              "</style>\n",
              "<table border=\"1\" class=\"dataframe\">\n",
              "  <thead>\n",
              "    <tr style=\"text-align: right;\">\n",
              "      <th></th>\n",
              "      <th>x</th>\n",
              "      <th>y</th>\n",
              "      <th>label</th>\n",
              "    </tr>\n",
              "  </thead>\n",
              "  <tbody>\n",
              "    <tr>\n",
              "      <th>0</th>\n",
              "      <td>4.739979</td>\n",
              "      <td>4.689704</td>\n",
              "      <td>a</td>\n",
              "    </tr>\n",
              "    <tr>\n",
              "      <th>1</th>\n",
              "      <td>2.621193</td>\n",
              "      <td>4.643513</td>\n",
              "      <td>a</td>\n",
              "    </tr>\n",
              "    <tr>\n",
              "      <th>2</th>\n",
              "      <td>1.669858</td>\n",
              "      <td>6.548281</td>\n",
              "      <td>a</td>\n",
              "    </tr>\n",
              "    <tr>\n",
              "      <th>3</th>\n",
              "      <td>0.917987</td>\n",
              "      <td>7.737678</td>\n",
              "      <td>a</td>\n",
              "    </tr>\n",
              "    <tr>\n",
              "      <th>4</th>\n",
              "      <td>3.997487</td>\n",
              "      <td>6.226445</td>\n",
              "      <td>a</td>\n",
              "    </tr>\n",
              "    <tr>\n",
              "      <th>...</th>\n",
              "      <td>...</td>\n",
              "      <td>...</td>\n",
              "      <td>...</td>\n",
              "    </tr>\n",
              "    <tr>\n",
              "      <th>95</th>\n",
              "      <td>3.784419</td>\n",
              "      <td>6.559136</td>\n",
              "      <td>b</td>\n",
              "    </tr>\n",
              "    <tr>\n",
              "      <th>96</th>\n",
              "      <td>4.958713</td>\n",
              "      <td>7.033893</td>\n",
              "      <td>b</td>\n",
              "    </tr>\n",
              "    <tr>\n",
              "      <th>97</th>\n",
              "      <td>5.115138</td>\n",
              "      <td>8.737719</td>\n",
              "      <td>b</td>\n",
              "    </tr>\n",
              "    <tr>\n",
              "      <th>98</th>\n",
              "      <td>6.025620</td>\n",
              "      <td>9.123381</td>\n",
              "      <td>b</td>\n",
              "    </tr>\n",
              "    <tr>\n",
              "      <th>99</th>\n",
              "      <td>3.152687</td>\n",
              "      <td>4.823187</td>\n",
              "      <td>b</td>\n",
              "    </tr>\n",
              "  </tbody>\n",
              "</table>\n",
              "<p>200 rows × 3 columns</p>\n",
              "</div>"
            ],
            "text/plain": [
              "           x         y label\n",
              "0   4.739979  4.689704     a\n",
              "1   2.621193  4.643513     a\n",
              "2   1.669858  6.548281     a\n",
              "3   0.917987  7.737678     a\n",
              "4   3.997487  6.226445     a\n",
              "..       ...       ...   ...\n",
              "95  3.784419  6.559136     b\n",
              "96  4.958713  7.033893     b\n",
              "97  5.115138  8.737719     b\n",
              "98  6.025620  9.123381     b\n",
              "99  3.152687  4.823187     b\n",
              "\n",
              "[200 rows x 3 columns]"
            ]
          },
          "metadata": {
            "tags": []
          },
          "execution_count": 395
        }
      ]
    },
    {
      "cell_type": "code",
      "metadata": {
        "colab": {
          "base_uri": "https://localhost:8080/",
          "height": 312
        },
        "id": "J4Ixq1a1nhGj",
        "outputId": "e2bf8566-562f-4d29-98c6-cbb95bd5226f"
      },
      "source": [
        "colors = {'a':'yellow', 'b':'purple'}\n",
        "\n",
        "plt.figure(figsize=(5, 4))\n",
        "plt.scatter(dataset['x'], dataset['y'], c = dataset['label'].apply(lambda x: colors[x]))\n",
        "plt.title(f\"Two gaussians of {number_of_elements} elements\")\n",
        "plt.xlabel(\"x\")\n",
        "plt.ylabel(\"y\")"
      ],
      "execution_count": null,
      "outputs": [
        {
          "output_type": "execute_result",
          "data": {
            "text/plain": [
              "Text(0, 0.5, 'y')"
            ]
          },
          "metadata": {
            "tags": []
          },
          "execution_count": 396
        },
        {
          "output_type": "display_data",
          "data": {
            "image/png": "[encoded data removed]",
            "text/plain": [
              "<Figure size 360x288 with 1 Axes>"
            ]
          },
          "metadata": {
            "tags": [],
            "needs_background": "light"
          }
        }
      ]
    },
    {
      "cell_type": "code",
      "metadata": {
        "id": "rCaFM8hp4nSM"
      },
      "source": [
        "\n",
        "\n"
      ],
      "execution_count": null,
      "outputs": []
    },
    {
      "cell_type": "markdown",
      "metadata": {
        "id": "ph6AzDnPmAuk"
      },
      "source": [
        "### Creando knn y evaluandolo"
      ]
    },
    {
      "cell_type": "markdown",
      "metadata": {
        "id": "sKW1sL9onOxr"
      },
      "source": [
        "#### Preparo datos y separo el dataset en train y test"
      ]
    },
    {
      "cell_type": "markdown",
      "metadata": {
        "id": "ld1ruzod4ies"
      },
      "source": [
        "Transformo la variable target a numerica"
      ]
    },
    {
      "cell_type": "code",
      "metadata": {
        "id": "XC7Dnprr3P4V"
      },
      "source": [
        "numerical = {'a': 0, 'b': 1}\n",
        "numerical_dataset = dataset.copy()\n",
        "numerical_dataset['label'] = numerical_dataset['label'].apply(lambda x: numerical[x])"
      ],
      "execution_count": null,
      "outputs": []
    },
    {
      "cell_type": "code",
      "metadata": {
        "colab": {
          "base_uri": "https://localhost:8080/",
          "height": 419
        },
        "id": "mQ1gkClA4GOZ",
        "outputId": "3f300fd5-5095-4088-fb9f-77a0c9b29eef"
      },
      "source": [
        "numerical_dataset"
      ],
      "execution_count": null,
      "outputs": [
        {
          "output_type": "execute_result",
          "data": {
            "text/html": [
              "<div>\n",
              "<style scoped>\n",
              "    .dataframe tbody tr th:only-of-type {\n",
              "        vertical-align: middle;\n",
              "    }\n",
              "\n",
              "    .dataframe tbody tr th {\n",
              "        vertical-align: top;\n",
              "    }\n",
              "\n",
              "    .dataframe thead th {\n",
              "        text-align: right;\n",
              "    }\n",
              "</style>\n",
              "<table border=\"1\" class=\"dataframe\">\n",
              "  <thead>\n",
              "    <tr style=\"text-align: right;\">\n",
              "      <th></th>\n",
              "      <th>x</th>\n",
              "      <th>y</th>\n",
              "      <th>label</th>\n",
              "    </tr>\n",
              "  </thead>\n",
              "  <tbody>\n",
              "    <tr>\n",
              "      <th>0</th>\n",
              "      <td>4.739979</td>\n",
              "      <td>4.689704</td>\n",
              "      <td>0</td>\n",
              "    </tr>\n",
              "    <tr>\n",
              "      <th>1</th>\n",
              "      <td>2.621193</td>\n",
              "      <td>4.643513</td>\n",
              "      <td>0</td>\n",
              "    </tr>\n",
              "    <tr>\n",
              "      <th>2</th>\n",
              "      <td>1.669858</td>\n",
              "      <td>6.548281</td>\n",
              "      <td>0</td>\n",
              "    </tr>\n",
              "    <tr>\n",
              "      <th>3</th>\n",
              "      <td>0.917987</td>\n",
              "      <td>7.737678</td>\n",
              "      <td>0</td>\n",
              "    </tr>\n",
              "    <tr>\n",
              "      <th>4</th>\n",
              "      <td>3.997487</td>\n",
              "      <td>6.226445</td>\n",
              "      <td>0</td>\n",
              "    </tr>\n",
              "    <tr>\n",
              "      <th>...</th>\n",
              "      <td>...</td>\n",
              "      <td>...</td>\n",
              "      <td>...</td>\n",
              "    </tr>\n",
              "    <tr>\n",
              "      <th>95</th>\n",
              "      <td>3.784419</td>\n",
              "      <td>6.559136</td>\n",
              "      <td>1</td>\n",
              "    </tr>\n",
              "    <tr>\n",
              "      <th>96</th>\n",
              "      <td>4.958713</td>\n",
              "      <td>7.033893</td>\n",
              "      <td>1</td>\n",
              "    </tr>\n",
              "    <tr>\n",
              "      <th>97</th>\n",
              "      <td>5.115138</td>\n",
              "      <td>8.737719</td>\n",
              "      <td>1</td>\n",
              "    </tr>\n",
              "    <tr>\n",
              "      <th>98</th>\n",
              "      <td>6.025620</td>\n",
              "      <td>9.123381</td>\n",
              "      <td>1</td>\n",
              "    </tr>\n",
              "    <tr>\n",
              "      <th>99</th>\n",
              "      <td>3.152687</td>\n",
              "      <td>4.823187</td>\n",
              "      <td>1</td>\n",
              "    </tr>\n",
              "  </tbody>\n",
              "</table>\n",
              "<p>200 rows × 3 columns</p>\n",
              "</div>"
            ],
            "text/plain": [
              "           x         y  label\n",
              "0   4.739979  4.689704      0\n",
              "1   2.621193  4.643513      0\n",
              "2   1.669858  6.548281      0\n",
              "3   0.917987  7.737678      0\n",
              "4   3.997487  6.226445      0\n",
              "..       ...       ...    ...\n",
              "95  3.784419  6.559136      1\n",
              "96  4.958713  7.033893      1\n",
              "97  5.115138  8.737719      1\n",
              "98  6.025620  9.123381      1\n",
              "99  3.152687  4.823187      1\n",
              "\n",
              "[200 rows x 3 columns]"
            ]
          },
          "metadata": {
            "tags": []
          },
          "execution_count": 398
        }
      ]
    },
    {
      "cell_type": "markdown",
      "metadata": {
        "id": "OJ5Y-QvjWUzy"
      },
      "source": [
        "Separo en training set y test set"
      ]
    },
    {
      "cell_type": "code",
      "metadata": {
        "id": "J97iQvLbzbmo"
      },
      "source": [
        "data_x = numerical_dataset.drop('label', axis=1)\n",
        "data_y = numerical_dataset['label']"
      ],
      "execution_count": null,
      "outputs": []
    },
    {
      "cell_type": "code",
      "metadata": {
        "id": "ciIQVA9HnQ6Y"
      },
      "source": [
        "x_train, x_test, y_train, y_test = train_test_split(data_x, data_y, test_size = 0.5)"
      ],
      "execution_count": null,
      "outputs": []
    },
    {
      "cell_type": "code",
      "metadata": {
        "id": "HNnnEJ3B4k-G"
      },
      "source": [
        ""
      ],
      "execution_count": null,
      "outputs": []
    },
    {
      "cell_type": "markdown",
      "metadata": {
        "id": "1Uaw_N89m7AN"
      },
      "source": [
        "#### Creando el clasificador y haciendo fit"
      ]
    },
    {
      "cell_type": "markdown",
      "metadata": {
        "id": "3rJTWQ48dHL0"
      },
      "source": [
        "Uso la distancia de Minkowski con P = 2 (distancia euclidea)"
      ]
    },
    {
      "cell_type": "code",
      "metadata": {
        "id": "rdIGEDVcmeF-"
      },
      "source": [
        "knn_20 = neighbors.KNeighborsClassifier(n_neighbors = 20)\n",
        "knn_10 = neighbors.KNeighborsClassifier(n_neighbors = 10)\n",
        "knn_1 = neighbors.KNeighborsClassifier(n_neighbors = 1)"
      ],
      "execution_count": null,
      "outputs": []
    },
    {
      "cell_type": "code",
      "metadata": {
        "colab": {
          "base_uri": "https://localhost:8080/"
        },
        "id": "FNQoyMGyz9R-",
        "outputId": "4a8e210e-e586-4391-ccb3-dd4d921a7deb"
      },
      "source": [
        "knn_20.fit(x_train, y_train)"
      ],
      "execution_count": null,
      "outputs": [
        {
          "output_type": "execute_result",
          "data": {
            "text/plain": [
              "KNeighborsClassifier(algorithm='auto', leaf_size=30, metric='minkowski',\n",
              "                     metric_params=None, n_jobs=None, n_neighbors=20, p=2,\n",
              "                     weights='uniform')"
            ]
          },
          "metadata": {
            "tags": []
          },
          "execution_count": 402
        }
      ]
    },
    {
      "cell_type": "code",
      "metadata": {
        "colab": {
          "base_uri": "https://localhost:8080/"
        },
        "id": "NBeWYHoo4NDX",
        "outputId": "5bd30c25-e2ec-4367-a156-98cf90c1a278"
      },
      "source": [
        "knn_10.fit(x_train, y_train)"
      ],
      "execution_count": null,
      "outputs": [
        {
          "output_type": "execute_result",
          "data": {
            "text/plain": [
              "KNeighborsClassifier(algorithm='auto', leaf_size=30, metric='minkowski',\n",
              "                     metric_params=None, n_jobs=None, n_neighbors=10, p=2,\n",
              "                     weights='uniform')"
            ]
          },
          "metadata": {
            "tags": []
          },
          "execution_count": 403
        }
      ]
    },
    {
      "cell_type": "code",
      "metadata": {
        "colab": {
          "base_uri": "https://localhost:8080/"
        },
        "id": "h3xldihV4Py3",
        "outputId": "a92d3693-6bf3-4014-f1ea-740e142c1845"
      },
      "source": [
        "knn_1.fit(x_train, y_train)"
      ],
      "execution_count": null,
      "outputs": [
        {
          "output_type": "execute_result",
          "data": {
            "text/plain": [
              "KNeighborsClassifier(algorithm='auto', leaf_size=30, metric='minkowski',\n",
              "                     metric_params=None, n_jobs=None, n_neighbors=1, p=2,\n",
              "                     weights='uniform')"
            ]
          },
          "metadata": {
            "tags": []
          },
          "execution_count": 404
        }
      ]
    },
    {
      "cell_type": "code",
      "metadata": {
        "id": "R367x5zMxtDr"
      },
      "source": [
        "\n",
        "\n"
      ],
      "execution_count": null,
      "outputs": []
    },
    {
      "cell_type": "markdown",
      "metadata": {
        "id": "96W2Yyj84y5w"
      },
      "source": [
        "#### Evaluando el modelo"
      ]
    },
    {
      "cell_type": "markdown",
      "metadata": {
        "id": "1im3Mg1hOhID"
      },
      "source": [
        "Predicciones"
      ]
    },
    {
      "cell_type": "code",
      "metadata": {
        "id": "OvNYi0FRxtGn"
      },
      "source": [
        "predicted_labels = [knn_20.predict(x_test), knn_10.predict(x_test),  knn_1.predict(x_test)]"
      ],
      "execution_count": null,
      "outputs": []
    },
    {
      "cell_type": "markdown",
      "metadata": {
        "id": "KnFXSdOjTXpP"
      },
      "source": [
        "Graficando"
      ]
    },
    {
      "cell_type": "code",
      "metadata": {
        "colab": {
          "base_uri": "https://localhost:8080/",
          "height": 367
        },
        "id": "6ufuRnIUxtJf",
        "outputId": "2ef632d5-8f48-4f17-a04e-689037c5f470"
      },
      "source": [
        "plt.figure(figsize=(20, 5))\n",
        "plt.subplot(1,4,1)\n",
        "plt.scatter(x_test['x'], x_test['y'], c = y_test)\n",
        "plt.title('True Labels')\n",
        "plt.xlabel(\"x\")\n",
        "plt.ylabel(\"y\")\n",
        "plt.subplot(1,4,2)\n",
        "plt.scatter(x_test['x'], x_test['y'], c = predicted_labels[0])\n",
        "plt.title('Predicted Labels K = 20')\n",
        "plt.xlabel(\"x\")\n",
        "plt.ylabel(\"y\")\n",
        "plt.subplot(1,4,3)\n",
        "plt.scatter(x_test['x'], x_test['y'], c = predicted_labels[1])\n",
        "plt.title('Predicted Labels K = 10')\n",
        "plt.xlabel(\"x\")\n",
        "plt.ylabel(\"y\")\n",
        "plt.subplot(1,4,4)\n",
        "plt.scatter(x_test['x'], x_test['y'], c = predicted_labels[2])\n",
        "plt.title('Predicted Labels K = 1')\n",
        "plt.xlabel(\"x\")\n",
        "plt.ylabel(\"y\")"
      ],
      "execution_count": null,
      "outputs": [
        {
          "output_type": "execute_result",
          "data": {
            "text/plain": [
              "Text(0, 0.5, 'y')"
            ]
          },
          "metadata": {
            "tags": []
          },
          "execution_count": 406
        },
        {
          "output_type": "display_data",
          "data": {
            "image/png": "[encoded data removed]",
            "text/plain": [
              "<Figure size 1440x360 with 4 Axes>"
            ]
          },
          "metadata": {
            "tags": [],
            "needs_background": "light"
          }
        }
      ]
    },
    {
      "cell_type": "markdown",
      "metadata": {
        "id": "wpRsa4S2Xjmn"
      },
      "source": [
        "De los graficos puede observarse que la mejor separacion para esta corrida se obtiene con K = 20"
      ]
    },
    {
      "cell_type": "code",
      "metadata": {
        "id": "bqtZyq_jXi9V"
      },
      "source": [
        "\n",
        "\n"
      ],
      "execution_count": null,
      "outputs": []
    },
    {
      "cell_type": "markdown",
      "metadata": {
        "id": "yKvYv65PX-c_"
      },
      "source": [
        "#### Metricas"
      ]
    },
    {
      "cell_type": "markdown",
      "metadata": {
        "id": "Ci2HudgPZ2LX"
      },
      "source": [
        "F1 y Recall"
      ]
    },
    {
      "cell_type": "code",
      "metadata": {
        "colab": {
          "base_uri": "https://localhost:8080/"
        },
        "id": "VkCx4bWVYACF",
        "outputId": "92898062-7ab2-4685-8607-c73027806d00"
      },
      "source": [
        "fmeas = metrics.f1_score(y_test, predicted_labels[0])\n",
        "print(\"f-measure for k = 20 and 0.5 percent of data test: %f\" %fmeas )\n",
        "recall = metrics.recall_score(y_test, predicted_labels[0])\n",
        "print(\"recall for k = 20 and 0.5 percent of data test: %f\" %recall )"
      ],
      "execution_count": null,
      "outputs": [
        {
          "output_type": "stream",
          "text": [
            "f-measure for k = 20 and 0.5 percent of data test: 0.752294\n",
            "recall for k = 20 and 0.5 percent of data test: 0.759259\n"
          ],
          "name": "stdout"
        }
      ]
    },
    {
      "cell_type": "code",
      "metadata": {
        "colab": {
          "base_uri": "https://localhost:8080/"
        },
        "id": "Npr83v6nZvzs",
        "outputId": "4332b976-6d94-411f-b135-e11cd635865a"
      },
      "source": [
        "fmeas = metrics.f1_score(y_test, predicted_labels[1])\n",
        "print(\"f-measure for k = 10 and 0.5 percent of data test: %f\" %fmeas )\n",
        "recall = metrics.recall_score(y_test, predicted_labels[1])\n",
        "print(\"recall for k = 10 and 0.5 percent of data test: %f\" %recall )"
      ],
      "execution_count": null,
      "outputs": [
        {
          "output_type": "stream",
          "text": [
            "f-measure for k = 10 and 0.5 percent of data test: 0.711538\n",
            "recall for k = 10 and 0.5 percent of data test: 0.685185\n"
          ],
          "name": "stdout"
        }
      ]
    },
    {
      "cell_type": "code",
      "metadata": {
        "colab": {
          "base_uri": "https://localhost:8080/"
        },
        "id": "vUxxLjwgZz3x",
        "outputId": "b451e07f-26cb-4ece-8018-5c11fbf2919d"
      },
      "source": [
        "fmeas = metrics.f1_score(y_test, predicted_labels[2])\n",
        "print(\"f-measure for k = 1 and 0.5 percent of data test: %f\" %fmeas )\n",
        "recall = metrics.recall_score(y_test, predicted_labels[2])\n",
        "print(\"recall for k = 1 and 0.5 percent of data test: %f\" %recall )"
      ],
      "execution_count": null,
      "outputs": [
        {
          "output_type": "stream",
          "text": [
            "f-measure for k = 1 and 0.5 percent of data test: 0.672727\n",
            "recall for k = 1 and 0.5 percent of data test: 0.685185\n"
          ],
          "name": "stdout"
        }
      ]
    },
    {
      "cell_type": "markdown",
      "metadata": {
        "id": "510qSKFnZ8cy"
      },
      "source": [
        "Accuracy vs K"
      ]
    },
    {
      "cell_type": "code",
      "metadata": {
        "id": "mEoI7PsQZ_qK"
      },
      "source": [
        "K = [1, 2, 3, 5, 10, 15, 20, 30, 50, 60, 70, 90]\n",
        "accur = []\n",
        "\n",
        "for k in K:\n",
        "    knn = neighbors.KNeighborsClassifier(n_neighbors = k).fit(x_train, y_train)\n",
        "    predicted_labels = knn.predict(x_test)\n",
        "    accur.append(metrics.accuracy_score(y_test, predicted_labels))"
      ],
      "execution_count": null,
      "outputs": []
    },
    {
      "cell_type": "code",
      "metadata": {
        "colab": {
          "base_uri": "https://localhost:8080/",
          "height": 312
        },
        "id": "GgGxOgTiaKy0",
        "outputId": "17cede39-1f34-4b71-a4bf-51ffe4d478ea"
      },
      "source": [
        "plt.plot(K, accur)\n",
        "plt.title('Accuracy vs. K')\n",
        "plt.ylabel('Accuracy')\n",
        "plt.xlabel('K')"
      ],
      "execution_count": null,
      "outputs": [
        {
          "output_type": "execute_result",
          "data": {
            "text/plain": [
              "Text(0.5, 0, 'K')"
            ]
          },
          "metadata": {
            "tags": []
          },
          "execution_count": 411
        },
        {
          "output_type": "display_data",
          "data": {
            "image/png": "[encoded data removed]",
            "text/plain": [
              "<Figure size 432x288 with 1 Axes>"
            ]
          },
          "metadata": {
            "tags": [],
            "needs_background": "light"
          }
        }
      ]
    },
    {
      "cell_type": "markdown",
      "metadata": {
        "id": "JdLDIB2NagU0"
      },
      "source": [
        "Realizando distintas corridas, con distintos valores para las gaussianas multivariables, y distintos valores de N, obtengo que las metricas varian mucho. Es decir, hay una fuerte incidencia de la aleatoriedad del dataset en los resultados. "
      ]
    },
    {
      "cell_type": "markdown",
      "metadata": {
        "id": "GyUss2gVbrTb"
      },
      "source": [
        "En caso de que el dataset tenga mas dimensiones, el procedimiento no cambiaria demasiado, ya que el algoritmo funcionaria de la misma forma. Es decir, haria fit con los datos de entrenamiento, y luego haria predicciones en base a la cantidad de vecinos elegidos para entrenar. Lo que cambiaria respecto a lo hecho, son los graficos, ya que en este caso son dos dimensiones (x e y), pero podrian graficarse hasta las 3. En caso de seguir aumentado las dimensiones, no se podria graficar."
      ]
    },
    {
      "cell_type": "code",
      "metadata": {
        "id": "9c-TncmkcLg5"
      },
      "source": [
        "\n",
        "\n",
        "\n"
      ],
      "execution_count": null,
      "outputs": []
    },
    {
      "cell_type": "markdown",
      "metadata": {
        "id": "lx4eDLpccMKq"
      },
      "source": [
        "## Ejercicio 2"
      ]
    },
    {
      "cell_type": "markdown",
      "metadata": {
        "id": "d3kqNRkUj755"
      },
      "source": [
        "### Carga del dataset y analisis exploratorio"
      ]
    },
    {
      "cell_type": "code",
      "metadata": {
        "id": "UiKGCQ9FAkFI"
      },
      "source": [
        "dataset_spotify = pd.read_csv(\"https://raw.githubusercontent.com/emmanueliarussi/DataScienceCapstone/master/3_MidtermProjects/ProjectBOM/data/attributes_spotify.csv\")"
      ],
      "execution_count": 67,
      "outputs": []
    },
    {
      "cell_type": "code",
      "metadata": {
        "colab": {
          "base_uri": "https://localhost:8080/",
          "height": 0
        },
        "id": "GN8FAtEMkNrx",
        "outputId": "a2ab493b-6065-4912-c5b4-96fe0e67da70"
      },
      "source": [
        "dataset_spotify.head()"
      ],
      "execution_count": 68,
      "outputs": [
        {
          "output_type": "execute_result",
          "data": {
            "text/html": [
              "<div>\n",
              "<style scoped>\n",
              "    .dataframe tbody tr th:only-of-type {\n",
              "        vertical-align: middle;\n",
              "    }\n",
              "\n",
              "    .dataframe tbody tr th {\n",
              "        vertical-align: top;\n",
              "    }\n",
              "\n",
              "    .dataframe thead th {\n",
              "        text-align: right;\n",
              "    }\n",
              "</style>\n",
              "<table border=\"1\" class=\"dataframe\">\n",
              "  <thead>\n",
              "    <tr style=\"text-align: right;\">\n",
              "      <th></th>\n",
              "      <th>Unnamed: 0</th>\n",
              "      <th>acousticness</th>\n",
              "      <th>danceability</th>\n",
              "      <th>duration_ms</th>\n",
              "      <th>energy</th>\n",
              "      <th>instrumentalness</th>\n",
              "      <th>key</th>\n",
              "      <th>liveness</th>\n",
              "      <th>loudness</th>\n",
              "      <th>mode</th>\n",
              "      <th>speechiness</th>\n",
              "      <th>tempo</th>\n",
              "      <th>time_signature</th>\n",
              "      <th>valence</th>\n",
              "      <th>target</th>\n",
              "      <th>song_title</th>\n",
              "      <th>artist</th>\n",
              "    </tr>\n",
              "  </thead>\n",
              "  <tbody>\n",
              "    <tr>\n",
              "      <th>0</th>\n",
              "      <td>0</td>\n",
              "      <td>0.0102</td>\n",
              "      <td>0.833</td>\n",
              "      <td>204600</td>\n",
              "      <td>0.434</td>\n",
              "      <td>0.021900</td>\n",
              "      <td>2</td>\n",
              "      <td>0.1650</td>\n",
              "      <td>-8.795</td>\n",
              "      <td>1</td>\n",
              "      <td>0.4310</td>\n",
              "      <td>150.062</td>\n",
              "      <td>4.0</td>\n",
              "      <td>0.286</td>\n",
              "      <td>1</td>\n",
              "      <td>Mask Off</td>\n",
              "      <td>Future</td>\n",
              "    </tr>\n",
              "    <tr>\n",
              "      <th>1</th>\n",
              "      <td>1</td>\n",
              "      <td>0.1990</td>\n",
              "      <td>0.743</td>\n",
              "      <td>326933</td>\n",
              "      <td>0.359</td>\n",
              "      <td>0.006110</td>\n",
              "      <td>1</td>\n",
              "      <td>0.1370</td>\n",
              "      <td>-10.401</td>\n",
              "      <td>1</td>\n",
              "      <td>0.0794</td>\n",
              "      <td>160.083</td>\n",
              "      <td>4.0</td>\n",
              "      <td>0.588</td>\n",
              "      <td>1</td>\n",
              "      <td>Redbone</td>\n",
              "      <td>Childish Gambino</td>\n",
              "    </tr>\n",
              "    <tr>\n",
              "      <th>2</th>\n",
              "      <td>2</td>\n",
              "      <td>0.0344</td>\n",
              "      <td>0.838</td>\n",
              "      <td>185707</td>\n",
              "      <td>0.412</td>\n",
              "      <td>0.000234</td>\n",
              "      <td>2</td>\n",
              "      <td>0.1590</td>\n",
              "      <td>-7.148</td>\n",
              "      <td>1</td>\n",
              "      <td>0.2890</td>\n",
              "      <td>75.044</td>\n",
              "      <td>4.0</td>\n",
              "      <td>0.173</td>\n",
              "      <td>1</td>\n",
              "      <td>Xanny Family</td>\n",
              "      <td>Future</td>\n",
              "    </tr>\n",
              "    <tr>\n",
              "      <th>3</th>\n",
              "      <td>3</td>\n",
              "      <td>0.6040</td>\n",
              "      <td>0.494</td>\n",
              "      <td>199413</td>\n",
              "      <td>0.338</td>\n",
              "      <td>0.510000</td>\n",
              "      <td>5</td>\n",
              "      <td>0.0922</td>\n",
              "      <td>-15.236</td>\n",
              "      <td>1</td>\n",
              "      <td>0.0261</td>\n",
              "      <td>86.468</td>\n",
              "      <td>4.0</td>\n",
              "      <td>0.230</td>\n",
              "      <td>1</td>\n",
              "      <td>Master Of None</td>\n",
              "      <td>Beach House</td>\n",
              "    </tr>\n",
              "    <tr>\n",
              "      <th>4</th>\n",
              "      <td>4</td>\n",
              "      <td>0.1800</td>\n",
              "      <td>0.678</td>\n",
              "      <td>392893</td>\n",
              "      <td>0.561</td>\n",
              "      <td>0.512000</td>\n",
              "      <td>5</td>\n",
              "      <td>0.4390</td>\n",
              "      <td>-11.648</td>\n",
              "      <td>0</td>\n",
              "      <td>0.0694</td>\n",
              "      <td>174.004</td>\n",
              "      <td>4.0</td>\n",
              "      <td>0.904</td>\n",
              "      <td>1</td>\n",
              "      <td>Parallel Lines</td>\n",
              "      <td>Junior Boys</td>\n",
              "    </tr>\n",
              "  </tbody>\n",
              "</table>\n",
              "</div>"
            ],
            "text/plain": [
              "   Unnamed: 0  acousticness  ...      song_title            artist\n",
              "0           0        0.0102  ...        Mask Off            Future\n",
              "1           1        0.1990  ...         Redbone  Childish Gambino\n",
              "2           2        0.0344  ...    Xanny Family            Future\n",
              "3           3        0.6040  ...  Master Of None       Beach House\n",
              "4           4        0.1800  ...  Parallel Lines       Junior Boys\n",
              "\n",
              "[5 rows x 17 columns]"
            ]
          },
          "metadata": {
            "tags": []
          },
          "execution_count": 68
        }
      ]
    },
    {
      "cell_type": "code",
      "metadata": {
        "colab": {
          "base_uri": "https://localhost:8080/"
        },
        "id": "07ned3j0kno2",
        "outputId": "38b51cb3-7c34-41d2-e991-c83580182014"
      },
      "source": [
        "dataset_spotify.dtypes"
      ],
      "execution_count": 69,
      "outputs": [
        {
          "output_type": "execute_result",
          "data": {
            "text/plain": [
              "Unnamed: 0            int64\n",
              "acousticness        float64\n",
              "danceability        float64\n",
              "duration_ms           int64\n",
              "energy              float64\n",
              "instrumentalness    float64\n",
              "key                   int64\n",
              "liveness            float64\n",
              "loudness            float64\n",
              "mode                  int64\n",
              "speechiness         float64\n",
              "tempo               float64\n",
              "time_signature      float64\n",
              "valence             float64\n",
              "target                int64\n",
              "song_title           object\n",
              "artist               object\n",
              "dtype: object"
            ]
          },
          "metadata": {
            "tags": []
          },
          "execution_count": 69
        }
      ]
    },
    {
      "cell_type": "markdown",
      "metadata": {
        "id": "PFNa7xZcktn7"
      },
      "source": [
        "Se tienen variables numericas (int64 y float64), excepto por 'song_title' y 'artist' que son de tipo string."
      ]
    },
    {
      "cell_type": "code",
      "metadata": {
        "id": "ZE15e_eSks9K"
      },
      "source": [
        ""
      ],
      "execution_count": 69,
      "outputs": []
    },
    {
      "cell_type": "code",
      "metadata": {
        "colab": {
          "base_uri": "https://localhost:8080/",
          "height": 0
        },
        "id": "MIKFICBSkRMq",
        "outputId": "ae213f82-a396-40c6-d3f9-f7b2281e4072"
      },
      "source": [
        "dataset_spotify.describe()"
      ],
      "execution_count": 70,
      "outputs": [
        {
          "output_type": "execute_result",
          "data": {
            "text/html": [
              "<div>\n",
              "<style scoped>\n",
              "    .dataframe tbody tr th:only-of-type {\n",
              "        vertical-align: middle;\n",
              "    }\n",
              "\n",
              "    .dataframe tbody tr th {\n",
              "        vertical-align: top;\n",
              "    }\n",
              "\n",
              "    .dataframe thead th {\n",
              "        text-align: right;\n",
              "    }\n",
              "</style>\n",
              "<table border=\"1\" class=\"dataframe\">\n",
              "  <thead>\n",
              "    <tr style=\"text-align: right;\">\n",
              "      <th></th>\n",
              "      <th>Unnamed: 0</th>\n",
              "      <th>acousticness</th>\n",
              "      <th>danceability</th>\n",
              "      <th>duration_ms</th>\n",
              "      <th>energy</th>\n",
              "      <th>instrumentalness</th>\n",
              "      <th>key</th>\n",
              "      <th>liveness</th>\n",
              "      <th>loudness</th>\n",
              "      <th>mode</th>\n",
              "      <th>speechiness</th>\n",
              "      <th>tempo</th>\n",
              "      <th>time_signature</th>\n",
              "      <th>valence</th>\n",
              "      <th>target</th>\n",
              "    </tr>\n",
              "  </thead>\n",
              "  <tbody>\n",
              "    <tr>\n",
              "      <th>count</th>\n",
              "      <td>2017.000000</td>\n",
              "      <td>2017.000000</td>\n",
              "      <td>2017.000000</td>\n",
              "      <td>2.017000e+03</td>\n",
              "      <td>2017.000000</td>\n",
              "      <td>2017.000000</td>\n",
              "      <td>2017.000000</td>\n",
              "      <td>2017.000000</td>\n",
              "      <td>2017.000000</td>\n",
              "      <td>2017.000000</td>\n",
              "      <td>2017.000000</td>\n",
              "      <td>2017.000000</td>\n",
              "      <td>2017.000000</td>\n",
              "      <td>2017.000000</td>\n",
              "      <td>2017.000000</td>\n",
              "    </tr>\n",
              "    <tr>\n",
              "      <th>mean</th>\n",
              "      <td>1008.000000</td>\n",
              "      <td>0.187590</td>\n",
              "      <td>0.618422</td>\n",
              "      <td>2.463062e+05</td>\n",
              "      <td>0.681577</td>\n",
              "      <td>0.133286</td>\n",
              "      <td>5.342588</td>\n",
              "      <td>0.190844</td>\n",
              "      <td>-7.085624</td>\n",
              "      <td>0.612295</td>\n",
              "      <td>0.092664</td>\n",
              "      <td>121.603272</td>\n",
              "      <td>3.968270</td>\n",
              "      <td>0.496815</td>\n",
              "      <td>0.505702</td>\n",
              "    </tr>\n",
              "    <tr>\n",
              "      <th>std</th>\n",
              "      <td>582.402066</td>\n",
              "      <td>0.259989</td>\n",
              "      <td>0.161029</td>\n",
              "      <td>8.198181e+04</td>\n",
              "      <td>0.210273</td>\n",
              "      <td>0.273162</td>\n",
              "      <td>3.648240</td>\n",
              "      <td>0.155453</td>\n",
              "      <td>3.761684</td>\n",
              "      <td>0.487347</td>\n",
              "      <td>0.089931</td>\n",
              "      <td>26.685604</td>\n",
              "      <td>0.255853</td>\n",
              "      <td>0.247195</td>\n",
              "      <td>0.500091</td>\n",
              "    </tr>\n",
              "    <tr>\n",
              "      <th>min</th>\n",
              "      <td>0.000000</td>\n",
              "      <td>0.000003</td>\n",
              "      <td>0.122000</td>\n",
              "      <td>1.604200e+04</td>\n",
              "      <td>0.014800</td>\n",
              "      <td>0.000000</td>\n",
              "      <td>0.000000</td>\n",
              "      <td>0.018800</td>\n",
              "      <td>-33.097000</td>\n",
              "      <td>0.000000</td>\n",
              "      <td>0.023100</td>\n",
              "      <td>47.859000</td>\n",
              "      <td>1.000000</td>\n",
              "      <td>0.034800</td>\n",
              "      <td>0.000000</td>\n",
              "    </tr>\n",
              "    <tr>\n",
              "      <th>25%</th>\n",
              "      <td>504.000000</td>\n",
              "      <td>0.009630</td>\n",
              "      <td>0.514000</td>\n",
              "      <td>2.000150e+05</td>\n",
              "      <td>0.563000</td>\n",
              "      <td>0.000000</td>\n",
              "      <td>2.000000</td>\n",
              "      <td>0.092300</td>\n",
              "      <td>-8.394000</td>\n",
              "      <td>0.000000</td>\n",
              "      <td>0.037500</td>\n",
              "      <td>100.189000</td>\n",
              "      <td>4.000000</td>\n",
              "      <td>0.295000</td>\n",
              "      <td>0.000000</td>\n",
              "    </tr>\n",
              "    <tr>\n",
              "      <th>50%</th>\n",
              "      <td>1008.000000</td>\n",
              "      <td>0.063300</td>\n",
              "      <td>0.631000</td>\n",
              "      <td>2.292610e+05</td>\n",
              "      <td>0.715000</td>\n",
              "      <td>0.000076</td>\n",
              "      <td>6.000000</td>\n",
              "      <td>0.127000</td>\n",
              "      <td>-6.248000</td>\n",
              "      <td>1.000000</td>\n",
              "      <td>0.054900</td>\n",
              "      <td>121.427000</td>\n",
              "      <td>4.000000</td>\n",
              "      <td>0.492000</td>\n",
              "      <td>1.000000</td>\n",
              "    </tr>\n",
              "    <tr>\n",
              "      <th>75%</th>\n",
              "      <td>1512.000000</td>\n",
              "      <td>0.265000</td>\n",
              "      <td>0.738000</td>\n",
              "      <td>2.703330e+05</td>\n",
              "      <td>0.846000</td>\n",
              "      <td>0.054000</td>\n",
              "      <td>9.000000</td>\n",
              "      <td>0.247000</td>\n",
              "      <td>-4.746000</td>\n",
              "      <td>1.000000</td>\n",
              "      <td>0.108000</td>\n",
              "      <td>137.849000</td>\n",
              "      <td>4.000000</td>\n",
              "      <td>0.691000</td>\n",
              "      <td>1.000000</td>\n",
              "    </tr>\n",
              "    <tr>\n",
              "      <th>max</th>\n",
              "      <td>2016.000000</td>\n",
              "      <td>0.995000</td>\n",
              "      <td>0.984000</td>\n",
              "      <td>1.004627e+06</td>\n",
              "      <td>0.998000</td>\n",
              "      <td>0.976000</td>\n",
              "      <td>11.000000</td>\n",
              "      <td>0.969000</td>\n",
              "      <td>-0.307000</td>\n",
              "      <td>1.000000</td>\n",
              "      <td>0.816000</td>\n",
              "      <td>219.331000</td>\n",
              "      <td>5.000000</td>\n",
              "      <td>0.992000</td>\n",
              "      <td>1.000000</td>\n",
              "    </tr>\n",
              "  </tbody>\n",
              "</table>\n",
              "</div>"
            ],
            "text/plain": [
              "        Unnamed: 0  acousticness  ...      valence       target\n",
              "count  2017.000000   2017.000000  ...  2017.000000  2017.000000\n",
              "mean   1008.000000      0.187590  ...     0.496815     0.505702\n",
              "std     582.402066      0.259989  ...     0.247195     0.500091\n",
              "min       0.000000      0.000003  ...     0.034800     0.000000\n",
              "25%     504.000000      0.009630  ...     0.295000     0.000000\n",
              "50%    1008.000000      0.063300  ...     0.492000     1.000000\n",
              "75%    1512.000000      0.265000  ...     0.691000     1.000000\n",
              "max    2016.000000      0.995000  ...     0.992000     1.000000\n",
              "\n",
              "[8 rows x 15 columns]"
            ]
          },
          "metadata": {
            "tags": []
          },
          "execution_count": 70
        }
      ]
    },
    {
      "cell_type": "markdown",
      "metadata": {
        "id": "VGXa1STwlA5R"
      },
      "source": [
        "Del analisis de las variables numericas, se puede observar que la variable que mayor varianza tiene es el 'tempo' seguida de 'loudness', por lo que se intuye que el dataset tiene distintos tipos de canciones."
      ]
    },
    {
      "cell_type": "code",
      "metadata": {
        "id": "4uTX_qF7k_m9"
      },
      "source": [
        ""
      ],
      "execution_count": 70,
      "outputs": []
    },
    {
      "cell_type": "code",
      "metadata": {
        "colab": {
          "base_uri": "https://localhost:8080/"
        },
        "id": "DCMboUmomlU6",
        "outputId": "866d631d-cd95-4169-84b2-3072cb12ee1f"
      },
      "source": [
        "dataset_spotify.isna().any()"
      ],
      "execution_count": 71,
      "outputs": [
        {
          "output_type": "execute_result",
          "data": {
            "text/plain": [
              "Unnamed: 0          False\n",
              "acousticness        False\n",
              "danceability        False\n",
              "duration_ms         False\n",
              "energy              False\n",
              "instrumentalness    False\n",
              "key                 False\n",
              "liveness            False\n",
              "loudness            False\n",
              "mode                False\n",
              "speechiness         False\n",
              "tempo               False\n",
              "time_signature      False\n",
              "valence             False\n",
              "target              False\n",
              "song_title          False\n",
              "artist              False\n",
              "dtype: bool"
            ]
          },
          "metadata": {
            "tags": []
          },
          "execution_count": 71
        }
      ]
    },
    {
      "cell_type": "markdown",
      "metadata": {
        "id": "g5FzCwT7m8Pu"
      },
      "source": [
        "No hay nulos en ninguna de las variables"
      ]
    },
    {
      "cell_type": "code",
      "metadata": {
        "id": "fe1WwKvMpXXh"
      },
      "source": [
        ""
      ],
      "execution_count": 71,
      "outputs": []
    },
    {
      "cell_type": "code",
      "metadata": {
        "colab": {
          "base_uri": "https://localhost:8080/"
        },
        "id": "qzQzzC_-pXBW",
        "outputId": "2638ada6-43da-4e94-8e2b-6c41cb109310"
      },
      "source": [
        "dataset_spotify['song_title'].nunique()"
      ],
      "execution_count": 72,
      "outputs": [
        {
          "output_type": "execute_result",
          "data": {
            "text/plain": [
              "1956"
            ]
          },
          "metadata": {
            "tags": []
          },
          "execution_count": 72
        }
      ]
    },
    {
      "cell_type": "code",
      "metadata": {
        "colab": {
          "base_uri": "https://localhost:8080/"
        },
        "id": "RMlF8Jn1peUR",
        "outputId": "4611aa01-867c-4e2a-f60b-378d6a44cd95"
      },
      "source": [
        "dataset_spotify['artist'].nunique()"
      ],
      "execution_count": 73,
      "outputs": [
        {
          "output_type": "execute_result",
          "data": {
            "text/plain": [
              "1343"
            ]
          },
          "metadata": {
            "tags": []
          },
          "execution_count": 73
        }
      ]
    },
    {
      "cell_type": "markdown",
      "metadata": {
        "id": "hKK7wNFeppk1"
      },
      "source": [
        "'song_title' y 'artist' son variables de alta cardinalidad."
      ]
    },
    {
      "cell_type": "code",
      "metadata": {
        "id": "oI-1gwchoHaI"
      },
      "source": [
        ""
      ],
      "execution_count": 73,
      "outputs": []
    },
    {
      "cell_type": "code",
      "metadata": {
        "id": "SAW4qZ0zoJHU"
      },
      "source": [
        "dataset = dataset_spotify.copy()\n",
        "dataset = dataset.drop('Unnamed: 0',1)"
      ],
      "execution_count": 74,
      "outputs": []
    },
    {
      "cell_type": "code",
      "metadata": {
        "colab": {
          "base_uri": "https://localhost:8080/",
          "height": 0
        },
        "id": "Sa9ynSDQoj7G",
        "outputId": "d34eb0cf-8355-4a5b-b64e-13bb731d24da"
      },
      "source": [
        "dataset.head()"
      ],
      "execution_count": 75,
      "outputs": [
        {
          "output_type": "execute_result",
          "data": {
            "text/html": [
              "<div>\n",
              "<style scoped>\n",
              "    .dataframe tbody tr th:only-of-type {\n",
              "        vertical-align: middle;\n",
              "    }\n",
              "\n",
              "    .dataframe tbody tr th {\n",
              "        vertical-align: top;\n",
              "    }\n",
              "\n",
              "    .dataframe thead th {\n",
              "        text-align: right;\n",
              "    }\n",
              "</style>\n",
              "<table border=\"1\" class=\"dataframe\">\n",
              "  <thead>\n",
              "    <tr style=\"text-align: right;\">\n",
              "      <th></th>\n",
              "      <th>acousticness</th>\n",
              "      <th>danceability</th>\n",
              "      <th>duration_ms</th>\n",
              "      <th>energy</th>\n",
              "      <th>instrumentalness</th>\n",
              "      <th>key</th>\n",
              "      <th>liveness</th>\n",
              "      <th>loudness</th>\n",
              "      <th>mode</th>\n",
              "      <th>speechiness</th>\n",
              "      <th>tempo</th>\n",
              "      <th>time_signature</th>\n",
              "      <th>valence</th>\n",
              "      <th>target</th>\n",
              "      <th>song_title</th>\n",
              "      <th>artist</th>\n",
              "    </tr>\n",
              "  </thead>\n",
              "  <tbody>\n",
              "    <tr>\n",
              "      <th>0</th>\n",
              "      <td>0.0102</td>\n",
              "      <td>0.833</td>\n",
              "      <td>204600</td>\n",
              "      <td>0.434</td>\n",
              "      <td>0.021900</td>\n",
              "      <td>2</td>\n",
              "      <td>0.1650</td>\n",
              "      <td>-8.795</td>\n",
              "      <td>1</td>\n",
              "      <td>0.4310</td>\n",
              "      <td>150.062</td>\n",
              "      <td>4.0</td>\n",
              "      <td>0.286</td>\n",
              "      <td>1</td>\n",
              "      <td>Mask Off</td>\n",
              "      <td>Future</td>\n",
              "    </tr>\n",
              "    <tr>\n",
              "      <th>1</th>\n",
              "      <td>0.1990</td>\n",
              "      <td>0.743</td>\n",
              "      <td>326933</td>\n",
              "      <td>0.359</td>\n",
              "      <td>0.006110</td>\n",
              "      <td>1</td>\n",
              "      <td>0.1370</td>\n",
              "      <td>-10.401</td>\n",
              "      <td>1</td>\n",
              "      <td>0.0794</td>\n",
              "      <td>160.083</td>\n",
              "      <td>4.0</td>\n",
              "      <td>0.588</td>\n",
              "      <td>1</td>\n",
              "      <td>Redbone</td>\n",
              "      <td>Childish Gambino</td>\n",
              "    </tr>\n",
              "    <tr>\n",
              "      <th>2</th>\n",
              "      <td>0.0344</td>\n",
              "      <td>0.838</td>\n",
              "      <td>185707</td>\n",
              "      <td>0.412</td>\n",
              "      <td>0.000234</td>\n",
              "      <td>2</td>\n",
              "      <td>0.1590</td>\n",
              "      <td>-7.148</td>\n",
              "      <td>1</td>\n",
              "      <td>0.2890</td>\n",
              "      <td>75.044</td>\n",
              "      <td>4.0</td>\n",
              "      <td>0.173</td>\n",
              "      <td>1</td>\n",
              "      <td>Xanny Family</td>\n",
              "      <td>Future</td>\n",
              "    </tr>\n",
              "    <tr>\n",
              "      <th>3</th>\n",
              "      <td>0.6040</td>\n",
              "      <td>0.494</td>\n",
              "      <td>199413</td>\n",
              "      <td>0.338</td>\n",
              "      <td>0.510000</td>\n",
              "      <td>5</td>\n",
              "      <td>0.0922</td>\n",
              "      <td>-15.236</td>\n",
              "      <td>1</td>\n",
              "      <td>0.0261</td>\n",
              "      <td>86.468</td>\n",
              "      <td>4.0</td>\n",
              "      <td>0.230</td>\n",
              "      <td>1</td>\n",
              "      <td>Master Of None</td>\n",
              "      <td>Beach House</td>\n",
              "    </tr>\n",
              "    <tr>\n",
              "      <th>4</th>\n",
              "      <td>0.1800</td>\n",
              "      <td>0.678</td>\n",
              "      <td>392893</td>\n",
              "      <td>0.561</td>\n",
              "      <td>0.512000</td>\n",
              "      <td>5</td>\n",
              "      <td>0.4390</td>\n",
              "      <td>-11.648</td>\n",
              "      <td>0</td>\n",
              "      <td>0.0694</td>\n",
              "      <td>174.004</td>\n",
              "      <td>4.0</td>\n",
              "      <td>0.904</td>\n",
              "      <td>1</td>\n",
              "      <td>Parallel Lines</td>\n",
              "      <td>Junior Boys</td>\n",
              "    </tr>\n",
              "  </tbody>\n",
              "</table>\n",
              "</div>"
            ],
            "text/plain": [
              "   acousticness  danceability  ...      song_title            artist\n",
              "0        0.0102         0.833  ...        Mask Off            Future\n",
              "1        0.1990         0.743  ...         Redbone  Childish Gambino\n",
              "2        0.0344         0.838  ...    Xanny Family            Future\n",
              "3        0.6040         0.494  ...  Master Of None       Beach House\n",
              "4        0.1800         0.678  ...  Parallel Lines       Junior Boys\n",
              "\n",
              "[5 rows x 16 columns]"
            ]
          },
          "metadata": {
            "tags": []
          },
          "execution_count": 75
        }
      ]
    },
    {
      "cell_type": "markdown",
      "metadata": {
        "id": "v-1tW8LBom8-"
      },
      "source": [
        "Hago un drop de la variable 'Unnamed: 0' ya que contiene la misma informacion que el index del dataset"
      ]
    },
    {
      "cell_type": "code",
      "metadata": {
        "id": "8WrY7VESnKot"
      },
      "source": [
        ""
      ],
      "execution_count": 75,
      "outputs": []
    },
    {
      "cell_type": "markdown",
      "metadata": {
        "id": "kUG0ka9xovrp"
      },
      "source": [
        "Graficando el histograma de las variables numericas"
      ]
    },
    {
      "cell_type": "code",
      "metadata": {
        "colab": {
          "base_uri": "https://localhost:8080/",
          "height": 0
        },
        "id": "BbwTRsjsnLgi",
        "outputId": "d2a0e5d7-91d4-4e21-f77d-f5b004c6f475"
      },
      "source": [
        "dataset.hist(figsize=(15,15))"
      ],
      "execution_count": 76,
      "outputs": [
        {
          "output_type": "execute_result",
          "data": {
            "text/plain": [
              "array([[<matplotlib.axes._subplots.AxesSubplot object at 0x7f1365efa3d0>,\n",
              "        <matplotlib.axes._subplots.AxesSubplot object at 0x7f1365ab7190>,\n",
              "        <matplotlib.axes._subplots.AxesSubplot object at 0x7f1365adf6d0>,\n",
              "        <matplotlib.axes._subplots.AxesSubplot object at 0x7f1365a94610>],\n",
              "       [<matplotlib.axes._subplots.AxesSubplot object at 0x7f1365a48b90>,\n",
              "        <matplotlib.axes._subplots.AxesSubplot object at 0x7f1365a09150>,\n",
              "        <matplotlib.axes._subplots.AxesSubplot object at 0x7f13659bd750>,\n",
              "        <matplotlib.axes._subplots.AxesSubplot object at 0x7f1365973c10>],\n",
              "       [<matplotlib.axes._subplots.AxesSubplot object at 0x7f1365973c50>,\n",
              "        <matplotlib.axes._subplots.AxesSubplot object at 0x7f1365935310>,\n",
              "        <matplotlib.axes._subplots.AxesSubplot object at 0x7f136591fd10>,\n",
              "        <matplotlib.axes._subplots.AxesSubplot object at 0x7f13658e32d0>],\n",
              "       [<matplotlib.axes._subplots.AxesSubplot object at 0x7f1365897850>,\n",
              "        <matplotlib.axes._subplots.AxesSubplot object at 0x7f136584edd0>,\n",
              "        <matplotlib.axes._subplots.AxesSubplot object at 0x7f1366be3dd0>,\n",
              "        <matplotlib.axes._subplots.AxesSubplot object at 0x7f136636eb10>]],\n",
              "      dtype=object)"
            ]
          },
          "metadata": {
            "tags": []
          },
          "execution_count": 76
        },
        {
          "output_type": "display_data",
          "data": {
            "image/png": "[encoded data removed]",
            "text/plain": [
              "<Figure size 1080x1080 with 16 Axes>"
            ]
          },
          "metadata": {
            "tags": [],
            "needs_background": "light"
          }
        }
      ]
    },
    {
      "cell_type": "code",
      "metadata": {
        "id": "Zb8xJRjvwT-6"
      },
      "source": [
        ""
      ],
      "execution_count": 76,
      "outputs": []
    },
    {
      "cell_type": "code",
      "metadata": {
        "colab": {
          "base_uri": "https://localhost:8080/"
        },
        "id": "YBcIsMn6wUBd",
        "outputId": "448f15bf-95c1-425c-8c4c-07b5f80f786d"
      },
      "source": [
        "for key in dataset:\n",
        "    MI = metrics.mutual_info_score( dataset[key], dataset_spotify['target'])\n",
        "    print(\"%s \\t \\t|\"% key, \"MI: %f\" % MI)"
      ],
      "execution_count": 77,
      "outputs": [
        {
          "output_type": "stream",
          "text": [
            "acousticness \t \t| MI: 0.478568\n",
            "danceability \t \t| MI: 0.227508\n",
            "duration_ms \t \t| MI: 0.671391\n",
            "energy \t \t| MI: 0.228983\n",
            "instrumentalness \t \t| MI: 0.403923\n",
            "key \t \t| MI: 0.005212\n",
            "liveness \t \t| MI: 0.250915\n",
            "loudness \t \t| MI: 0.628203\n",
            "mode \t \t| MI: 0.002620\n",
            "speechiness \t \t| MI: 0.258406\n",
            "tempo \t \t| MI: 0.660428\n",
            "time_signature \t \t| MI: 0.001903\n",
            "valence \t \t| MI: 0.297482\n",
            "target \t \t| MI: 0.693082\n",
            "song_title \t \t| MI: 0.684147\n",
            "artist \t \t| MI: 0.661691\n"
          ],
          "name": "stdout"
        }
      ]
    },
    {
      "cell_type": "markdown",
      "metadata": {
        "id": "igRYad8GwoGl"
      },
      "source": [
        "Las variables que tienen mayor coeficiente de correlacion con la variable target son: loudness, song_title, artist y duration_ms. Sin embargo, artist y song_title son variables categoricas de alta cardinalidad, y convertir estas variables en variables numericas utiliza tecnicas mas avanzadas, como por ejemplo usar embeddings."
      ]
    },
    {
      "cell_type": "code",
      "metadata": {
        "id": "TJc0FhYMo1KY"
      },
      "source": [
        "\n",
        "\n"
      ],
      "execution_count": 77,
      "outputs": []
    },
    {
      "cell_type": "markdown",
      "metadata": {
        "id": "bTzgPKzto11H"
      },
      "source": [
        "### Preparacion de datos"
      ]
    },
    {
      "cell_type": "markdown",
      "metadata": {
        "id": "sDwxV3zhxdDl"
      },
      "source": [
        "Me quedo con las variables que tienen mayor correlacion con la variable target"
      ]
    },
    {
      "cell_type": "code",
      "metadata": {
        "id": "yHHVKhmkp9ey"
      },
      "source": [
        "dataset = dataset[['acousticness', 'instrumentalness',\t'loudness', 'duration_ms', 'target']]"
      ],
      "execution_count": 78,
      "outputs": []
    },
    {
      "cell_type": "code",
      "metadata": {
        "colab": {
          "base_uri": "https://localhost:8080/",
          "height": 204
        },
        "id": "mYmg0UfIxasz",
        "outputId": "a5e239e5-2839-4b3e-87a0-bfe349377930"
      },
      "source": [
        "dataset.head()"
      ],
      "execution_count": 79,
      "outputs": [
        {
          "output_type": "execute_result",
          "data": {
            "text/html": [
              "<div>\n",
              "<style scoped>\n",
              "    .dataframe tbody tr th:only-of-type {\n",
              "        vertical-align: middle;\n",
              "    }\n",
              "\n",
              "    .dataframe tbody tr th {\n",
              "        vertical-align: top;\n",
              "    }\n",
              "\n",
              "    .dataframe thead th {\n",
              "        text-align: right;\n",
              "    }\n",
              "</style>\n",
              "<table border=\"1\" class=\"dataframe\">\n",
              "  <thead>\n",
              "    <tr style=\"text-align: right;\">\n",
              "      <th></th>\n",
              "      <th>acousticness</th>\n",
              "      <th>instrumentalness</th>\n",
              "      <th>loudness</th>\n",
              "      <th>duration_ms</th>\n",
              "      <th>target</th>\n",
              "    </tr>\n",
              "  </thead>\n",
              "  <tbody>\n",
              "    <tr>\n",
              "      <th>0</th>\n",
              "      <td>0.0102</td>\n",
              "      <td>0.021900</td>\n",
              "      <td>-8.795</td>\n",
              "      <td>204600</td>\n",
              "      <td>1</td>\n",
              "    </tr>\n",
              "    <tr>\n",
              "      <th>1</th>\n",
              "      <td>0.1990</td>\n",
              "      <td>0.006110</td>\n",
              "      <td>-10.401</td>\n",
              "      <td>326933</td>\n",
              "      <td>1</td>\n",
              "    </tr>\n",
              "    <tr>\n",
              "      <th>2</th>\n",
              "      <td>0.0344</td>\n",
              "      <td>0.000234</td>\n",
              "      <td>-7.148</td>\n",
              "      <td>185707</td>\n",
              "      <td>1</td>\n",
              "    </tr>\n",
              "    <tr>\n",
              "      <th>3</th>\n",
              "      <td>0.6040</td>\n",
              "      <td>0.510000</td>\n",
              "      <td>-15.236</td>\n",
              "      <td>199413</td>\n",
              "      <td>1</td>\n",
              "    </tr>\n",
              "    <tr>\n",
              "      <th>4</th>\n",
              "      <td>0.1800</td>\n",
              "      <td>0.512000</td>\n",
              "      <td>-11.648</td>\n",
              "      <td>392893</td>\n",
              "      <td>1</td>\n",
              "    </tr>\n",
              "  </tbody>\n",
              "</table>\n",
              "</div>"
            ],
            "text/plain": [
              "   acousticness  instrumentalness  loudness  duration_ms  target\n",
              "0        0.0102          0.021900    -8.795       204600       1\n",
              "1        0.1990          0.006110   -10.401       326933       1\n",
              "2        0.0344          0.000234    -7.148       185707       1\n",
              "3        0.6040          0.510000   -15.236       199413       1\n",
              "4        0.1800          0.512000   -11.648       392893       1"
            ]
          },
          "metadata": {
            "tags": []
          },
          "execution_count": 79
        }
      ]
    },
    {
      "cell_type": "markdown",
      "metadata": {
        "id": "WkaCgyxw2xYS"
      },
      "source": [
        "Separando en features y target"
      ]
    },
    {
      "cell_type": "code",
      "metadata": {
        "id": "m0cC1LHU2X8w"
      },
      "source": [
        "y_data = dataset[['target']]\n",
        "x_data = dataset[['acousticness', 'instrumentalness',\t'loudness', 'duration_ms']]"
      ],
      "execution_count": 80,
      "outputs": []
    },
    {
      "cell_type": "markdown",
      "metadata": {
        "id": "eggRhHFy2YDN"
      },
      "source": [
        "Normalizando los datos"
      ]
    },
    {
      "cell_type": "code",
      "metadata": {
        "id": "5hgMzYeYxkZY"
      },
      "source": [
        "scaler = preprocessing.StandardScaler().fit(x_data)"
      ],
      "execution_count": 81,
      "outputs": []
    },
    {
      "cell_type": "code",
      "metadata": {
        "id": "4JkzWj5F4Dlb"
      },
      "source": [
        "x_data_scaled = scaler.transform(x_data)"
      ],
      "execution_count": 82,
      "outputs": []
    },
    {
      "cell_type": "markdown",
      "metadata": {
        "id": "0GWs2TB_4LC1"
      },
      "source": [
        "Separando en training set y test set"
      ]
    },
    {
      "cell_type": "code",
      "metadata": {
        "id": "FsbKFKGS4NzJ"
      },
      "source": [
        "x_train, x_test, y_train, y_test = train_test_split(x_data_scaled, y_data, test_size = 0.3)"
      ],
      "execution_count": 83,
      "outputs": []
    },
    {
      "cell_type": "code",
      "metadata": {
        "id": "BGhq_Pa34XlD"
      },
      "source": [
        "\n",
        "\n"
      ],
      "execution_count": 83,
      "outputs": []
    },
    {
      "cell_type": "markdown",
      "metadata": {
        "id": "XHyEZpsM4ZXK"
      },
      "source": [
        "### Creando KNN y evaluandolo"
      ]
    },
    {
      "cell_type": "markdown",
      "metadata": {
        "id": "L6k4DMQ45ocY"
      },
      "source": [
        "Evaluo con grid search para encontrar los mejores hiperparametros del modelo"
      ]
    },
    {
      "cell_type": "code",
      "metadata": {
        "colab": {
          "base_uri": "https://localhost:8080/"
        },
        "id": "m41EVGWv4b4T",
        "outputId": "5405e10c-b5e3-4413-8923-94b2a5573a77"
      },
      "source": [
        "grid_params = {\n",
        "    'n_neighbors':[5, 11, 15, 21, 25, 35, 41, 45, 49, 51, 53, 55, 75, 101],\n",
        "    'metric':['euclidean', 'chebyshev'],\n",
        "    'weights':['uniform', 'distance']\n",
        "}\n",
        "\n",
        "g_search = GridSearchCV(neighbors.KNeighborsClassifier(), grid_params, verbose = 1, cv = 5,n_jobs = -1 )\n",
        "g_result = g_search.fit(x_train,  y_train)"
      ],
      "execution_count": 86,
      "outputs": [
        {
          "output_type": "stream",
          "text": [
            "Fitting 5 folds for each of 56 candidates, totalling 280 fits\n"
          ],
          "name": "stdout"
        },
        {
          "output_type": "stream",
          "text": [
            "[Parallel(n_jobs=-1)]: Using backend LokyBackend with 2 concurrent workers.\n",
            "[Parallel(n_jobs=-1)]: Done 202 tasks      | elapsed:    3.3s\n",
            "[Parallel(n_jobs=-1)]: Done 280 out of 280 | elapsed:    4.2s finished\n",
            "/usr/local/lib/python3.7/dist-packages/sklearn/model_selection/_search.py:739: DataConversionWarning: A column-vector y was passed when a 1d array was expected. Please change the shape of y to (n_samples, ), for example using ravel().\n",
            "  self.best_estimator_.fit(X, y, **fit_params)\n"
          ],
          "name": "stderr"
        }
      ]
    },
    {
      "cell_type": "code",
      "metadata": {
        "id": "QLLB8ssC57Ac"
      },
      "source": [
        ""
      ],
      "execution_count": null,
      "outputs": []
    },
    {
      "cell_type": "markdown",
      "metadata": {
        "id": "9WXS_l6i5-GD"
      },
      "source": [
        "Evaluando el modelo"
      ]
    },
    {
      "cell_type": "code",
      "metadata": {
        "colab": {
          "base_uri": "https://localhost:8080/"
        },
        "id": "kAAlbxoX5_ef",
        "outputId": "32f6cf68-d01f-4452-a8ce-d64ff2bcbcd6"
      },
      "source": [
        "KNN_best_hyperparameters = g_result.best_estimator_\n",
        "predicted = KNN_best_hyperparameters.predict(x_test)\n",
        "validation_accuracy = metrics.accuracy_score(y_test, predicted)\n",
        "validation_recall = metrics.recall_score(y_test, predicted)\n",
        "validation_f1 = metrics.f1_score(y_test, predicted)\n",
        "precision = metrics.precision_score(y_test, predicted)\n",
        "\n",
        "print(\"Train accuracy: %f\\n\" % g_result.best_score_)\n",
        "\n",
        "print(\"Grid scores on test set:\\n\")\n",
        "\n",
        "print( \"Validation accuracy: %f\" % validation_accuracy)\n",
        "print( \"Validation recall: %f\"   % validation_recall)\n",
        "print( \"Validation f1: %f\"       % validation_f1)\n",
        "print( \"Validation precision: %f\\n\"       % precision)\n",
        "print(\"Best hyperparameters: %s\" % g_result.best_params_)"
      ],
      "execution_count": 87,
      "outputs": [
        {
          "output_type": "stream",
          "text": [
            "Train accuracy: 0.699516\n",
            "\n",
            "Grid scores on test set:\n",
            "\n",
            "Validation accuracy: 0.683168\n",
            "Validation recall: 0.657807\n",
            "Validation f1: 0.673469\n",
            "Validation precision: 0.689895\n",
            "\n",
            "Best hyperparameters: {'metric': 'chebyshev', 'n_neighbors': 41, 'weights': 'distance'}\n"
          ],
          "name": "stdout"
        }
      ]
    }
  ]
}